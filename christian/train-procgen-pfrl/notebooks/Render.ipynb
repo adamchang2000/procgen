{
 "cells": [
  {
   "cell_type": "markdown",
   "id": "9c8f3422-9882-4662-a700-d75afc1575c0",
   "metadata": {},
   "source": [
    "# Training Commands:\n",
    "\n",
    "```\n",
    "python train_procgen.py --env-name fruitbot --num-levels 50 --start-level 100 --distribution-mode=easy --exp-name=trialname --num-envs 8 --max-steps 5000000\n",
    "```"
   ]
  },
  {
   "cell_type": "markdown",
   "id": "3b41b5a1-9bd8-4f8a-8a2c-5c3176fd53b9",
   "metadata": {},
   "source": [
    "## Rendering Environment in Notebook\n",
    "\n",
    "Credits to:\n",
    "https://hub.docker.com/r/jaimeps/rl-gym\n",
    "\n",
    "\n",
    "Example code:\n",
    "```\n",
    "import gym\n",
    "from IPython import display\n",
    "import matplotlib.pyplot as plt\n",
    "%matplotlib inline\n",
    "\n",
    "env = gym.make('Breakout-v0')\n",
    "env.reset()\n",
    "for _ in range(1000):\n",
    "    plt.imshow(env.render(mode='rgb_array'))\n",
    "    display.clear_output(wait=True)\n",
    "    display.display(plt.gcf())\n",
    "    env.step(env.action_space.sample())\n",
    "```"
   ]
  },
  {
   "cell_type": "code",
   "execution_count": 4,
   "id": "9a6a1854-0c1f-4b49-b5fc-bd084917f11c",
   "metadata": {},
   "outputs": [],
   "source": [
    "from collections import deque\n",
    "import argparse\n",
    "import os\n",
    "import time\n",
    "import torch\n",
    "import numpy as np\n",
    "\n",
    "from procgen import ProcgenEnv\n",
    "from vec_env import VecExtractDictObs\n",
    "from vec_env import VecMonitor\n",
    "from vec_env import VecNormalize\n",
    "from util import logger\n",
    "\n",
    "from policies import ImpalaCNN\n",
    "from ppo import PPO"
   ]
  },
  {
   "cell_type": "code",
   "execution_count": 5,
   "id": "0f933bc6-6443-414b-bb12-bae646c09b07",
   "metadata": {},
   "outputs": [],
   "source": [
    "from IPython import display\n",
    "import matplotlib.pyplot as plt\n",
    "%matplotlib inline"
   ]
  },
  {
   "cell_type": "code",
   "execution_count": 6,
   "id": "066a4dee-d6ff-4474-add7-5ab9e228915f",
   "metadata": {},
   "outputs": [],
   "source": [
    "from train_procgen import *"
   ]
  },
  {
   "cell_type": "code",
   "execution_count": 7,
   "id": "16ec1c12-26a6-4351-9f1c-32fba9fce95f",
   "metadata": {},
   "outputs": [],
   "source": [
    "import argparse\n",
    "import torch"
   ]
  },
  {
   "cell_type": "code",
   "execution_count": 8,
   "id": "a8b9c6b2-c3db-453d-82f5-93036e4b761f",
   "metadata": {},
   "outputs": [],
   "source": [
    "parser = argparse.ArgumentParser(\n",
    "    description='Process procgen training arguments.')\n",
    "\n",
    "# Experiment parameters.\n",
    "parser.add_argument(\n",
    "    '--distribution-mode', type=str, default='easy',\n",
    "    choices=['easy', 'hard', 'exploration', 'memory', 'extreme'])\n",
    "parser.add_argument('--env-name', type=str, default='starpilot')\n",
    "parser.add_argument('--num-envs', type=int, default=64)\n",
    "parser.add_argument('--num-levels', type=int, default=0)\n",
    "parser.add_argument('--start-level', type=int, default=0)\n",
    "parser.add_argument('--num-threads', type=int, default=4)\n",
    "parser.add_argument('--exp-name', type=str, default='trial01')\n",
    "parser.add_argument('--log-dir', type=str, default='./log')\n",
    "parser.add_argument('--model-file', type=str, default=None)\n",
    "parser.add_argument('--method-label', type=str, default='vanilla')\n",
    "\n",
    "# PPO parameters.\n",
    "parser.add_argument('--gpu', type=int, default=0)\n",
    "parser.add_argument('--lr', type=float, default=5e-4)\n",
    "parser.add_argument('--ent-coef', type=float, default=0.01)\n",
    "parser.add_argument('--vf-coef', type=float, default=0.5)\n",
    "parser.add_argument('--gamma', type=float, default=0.999)\n",
    "parser.add_argument('--lam', type=float, default=0.95)\n",
    "parser.add_argument('--clip-range', type=float, default=0.2)\n",
    "parser.add_argument('--max-grad-norm', type=float, default=0.5)\n",
    "parser.add_argument('--nsteps', type=int, default=256)\n",
    "parser.add_argument('--batch-size', type=int, default=8)\n",
    "parser.add_argument('--nepochs', type=int, default=3)\n",
    "parser.add_argument('--max-steps', type=int, default=25_000_000)\n",
    "parser.add_argument('--save-interval', type=int, default=100)\n",
    "\n",
    "configs = parser.parse_args(\n",
    "    args=[\n",
    "        '--env-name', 'fruitbot',\n",
    "        '--num-envs', '1',\n",
    "        '--num-levels', '500',\n",
    "        '--start-level', '0',\n",
    "        '--distribution-mode', 'easy',\n",
    "        '--max-steps', '1000',\n",
    "        '--model-file', './log/fruitbot/nlev_200_easy/vanilla/trial01/model_final.pt'\n",
    "    ]\n",
    ")"
   ]
  },
  {
   "cell_type": "code",
   "execution_count": 9,
   "id": "331aa3f8-6a53-496c-a40a-0f69bafc583c",
   "metadata": {},
   "outputs": [
    {
     "data": {
      "text/plain": [
       "Namespace(batch_size=8, clip_range=0.2, distribution_mode='easy', ent_coef=0.01, env_name='fruitbot', exp_name='trial01', gamma=0.999, gpu=0, lam=0.95, log_dir='./log', lr=0.0005, max_grad_norm=0.5, max_steps=1000, method_label='vanilla', model_file='./log/fruitbot/nlev_200_easy/vanilla/trial01/model_final.pt', nepochs=3, nsteps=256, num_envs=1, num_levels=500, num_threads=4, save_interval=100, start_level=0, vf_coef=0.5)"
      ]
     },
     "execution_count": 9,
     "metadata": {},
     "output_type": "execute_result"
    }
   ],
   "source": [
    "configs"
   ]
  },
  {
   "cell_type": "code",
   "execution_count": 10,
   "id": "a310d911-4186-46dd-914e-e9db2a781a1a",
   "metadata": {},
   "outputs": [],
   "source": [
    "def create_venv(config, is_valid=False):\n",
    "    venv = ProcgenEnv(\n",
    "        num_envs=config.num_envs,\n",
    "        env_name=config.env_name,\n",
    "        num_levels=0 if is_valid else config.num_levels,\n",
    "        start_level=0 if is_valid else config.start_level,\n",
    "        distribution_mode=config.distribution_mode,\n",
    "        num_threads=config.num_threads,\n",
    "        render_mode='rgb_array'\n",
    "    )\n",
    "    venv = VecExtractDictObs(venv, \"rgb\")\n",
    "    venv = VecMonitor(venv=venv, filename=None, keep_buf=100)\n",
    "    return VecNormalize(venv=venv, ob=False)"
   ]
  },
  {
   "cell_type": "code",
   "execution_count": 11,
   "id": "9906c924-1b2f-4803-b8f2-ea17a0f60188",
   "metadata": {},
   "outputs": [],
   "source": [
    "train_venv = create_venv(configs, is_valid=False)\n",
    "valid_venv = create_venv(configs, is_valid=True)"
   ]
  },
  {
   "cell_type": "code",
   "execution_count": 13,
   "id": "38d05bb6-d150-42ed-844c-24f4c59d8281",
   "metadata": {},
   "outputs": [
    {
     "data": {
      "text/plain": [
       "(64, 64, 3)"
      ]
     },
     "execution_count": 13,
     "metadata": {},
     "output_type": "execute_result"
    }
   ],
   "source": [
    "train_venv.observation_space.shape"
   ]
  },
  {
   "cell_type": "code",
   "execution_count": 15,
   "id": "d66020c4-a8bd-45df-bd30-7c7a6bf9fa98",
   "metadata": {},
   "outputs": [
    {
     "data": {
      "text/plain": [
       "15"
      ]
     },
     "execution_count": 15,
     "metadata": {},
     "output_type": "execute_result"
    }
   ],
   "source": [
    "train_venv.action_space.n"
   ]
  },
  {
   "cell_type": "code",
   "execution_count": 9,
   "id": "3636db46-135b-4b80-8159-455253f0c130",
   "metadata": {},
   "outputs": [],
   "source": [
    "policy = ImpalaCNN(\n",
    "    obs_space=train_venv.observation_space,\n",
    "    num_outputs=train_venv.action_space.n,\n",
    ")\n",
    "\n",
    "optimizer = torch.optim.Adam(\n",
    "    policy.parameters(), lr=configs.lr, eps=1e-5)\n",
    "\n",
    "ppo_agent = PPO(\n",
    "    model=policy,\n",
    "    optimizer=optimizer,\n",
    "    gpu=configs.gpu,\n",
    "    gamma=configs.gamma,\n",
    "    lambd=configs.lam,\n",
    "    value_func_coef=configs.vf_coef,\n",
    "    entropy_coef=configs.ent_coef,\n",
    "    update_interval=configs.nsteps * configs.num_envs,\n",
    "    minibatch_size=configs.batch_size,\n",
    "    epochs=configs.nepochs,\n",
    "    clip_eps=configs.clip_range,\n",
    "    clip_eps_vf=configs.clip_range,\n",
    "    max_grad_norm=configs.max_grad_norm,\n",
    ")"
   ]
  },
  {
   "cell_type": "code",
   "execution_count": 10,
   "id": "3cf94aa0-bf0b-44fa-b535-a6e26ca8ab6d",
   "metadata": {},
   "outputs": [],
   "source": [
    "agent = ppo_agent\n",
    "config = configs\n",
    "# train_venv, \n",
    "test_env = valid_venv\n",
    "# log_dir"
   ]
  },
  {
   "cell_type": "code",
   "execution_count": 11,
   "id": "8d8a571b-90b1-4f69-8ab4-65aa9f5ced48",
   "metadata": {},
   "outputs": [
    {
     "name": "stdout",
     "output_type": "stream",
     "text": [
      "Loaded model\n",
      "Start testing for 1000 steps (approximately 3 updates)\n"
     ]
    }
   ],
   "source": [
    "if config.model_file is not None:\n",
    "    agent.model.load_from_file(config.model_file)\n",
    "    print('Loaded model')\n",
    "else:\n",
    "    print('Testing model from scratch')\n",
    "\n",
    "test_epinfo_buf = deque(maxlen=100)\n",
    "test_obs = test_env.reset()\n",
    "test_steps = np.zeros(config.num_envs, dtype=int)\n",
    "\n",
    "nbatch = config.num_envs * config.nsteps\n",
    "n_ops_per_update = nbatch * config.nepochs / (nbatch // config.batch_size)\n",
    "nupdates = config.max_steps // nbatch\n",
    "max_steps = config.max_steps // config.num_envs\n",
    "\n",
    "print('Start testing for {} steps (approximately {} updates)'.format(\n",
    "    config.max_steps, nupdates))"
   ]
  },
  {
   "cell_type": "code",
   "execution_count": 12,
   "id": "3f3b3981-ef56-4b27-8778-48d6e3d51d90",
   "metadata": {},
   "outputs": [
    {
     "name": "stderr",
     "output_type": "stream",
     "text": [
      "AR: 10.739 AL: 359.718: 100%|██████████| 500/500 [11:57<00:00,  1.09s/it]"
     ]
    }
   ],
   "source": [
    "from tqdm import tqdm\n",
    "torch.manual_seed(0)\n",
    "import random\n",
    "random.seed(0)\n",
    "np.random.seed(0)\n",
    "\n",
    "done_count = 0\n",
    "step_cnt = 0\n",
    "total_rewards = 0\n",
    "\n",
    "pbar = tqdm(total = config.num_levels, position=0, leave=True)\n",
    "\n",
    "while done_count < config.num_levels:\n",
    "    # Roll-out in the test environments.\n",
    "    with agent.eval_mode():\n",
    "        assert not agent.training\n",
    "        # test_obs, test_steps, test_epinfo = rollout_one_step(\n",
    "        #     agent=agent,\n",
    "        #     env=test_env,\n",
    "        #     obs=test_obs,\n",
    "        #     steps=test_steps,\n",
    "        # )\n",
    "        # test_epinfo_buf.extend(test_epinfo)\n",
    "\n",
    "        # Args: agent, env, obs, steps, env_max_steps=1000\n",
    "        env_max_steps = 1000\n",
    "        env = test_env\n",
    "        obs = test_obs\n",
    "        steps = test_steps\n",
    "\n",
    "        # Step once.\n",
    "        action = agent.batch_act(obs)\n",
    "        new_obs, reward, done, infos = env.step(action)\n",
    "        steps += 1\n",
    "        reset = steps == env_max_steps\n",
    "        steps[done] = 0\n",
    "\n",
    "        # Save experience.\n",
    "        agent.batch_observe(\n",
    "            batch_obs=new_obs,\n",
    "            batch_reward=reward,\n",
    "            batch_done=done,\n",
    "            batch_reset=reset,\n",
    "        )\n",
    "\n",
    "        # return new_obs, steps, epinfo\n",
    "        test_obs = new_obs\n",
    "        test_steps = steps\n",
    "\n",
    "        # Rendering\n",
    "        # if step_cnt % 10 == 0: \n",
    "            # render_obj = test_env.render(mode='rgb_array')\n",
    "            # if render_obj == None:\n",
    "            #     continue\n",
    "            # print(render_obj)\n",
    "            # plt.imshow(render_obj)\n",
    "            # display.clear_output(wait=True)\n",
    "            # display.display(plt.gcf())\n",
    "\n",
    "        step_cnt += 1\n",
    "        total_rewards += reward[0]\n",
    "        if done:\n",
    "            done_count += 1\n",
    "            \n",
    "            pbar.update(1)\n",
    "            pbar.set_description(\n",
    "                f\"AR: {total_rewards / done_count:.3f} \" + \\\n",
    "                f\"AL: {step_cnt / done_count:.3f}\"\n",
    "            )\n",
    "            \n",
    "        # print(reward)"
   ]
  },
  {
   "cell_type": "code",
   "execution_count": null,
   "id": "7c53ddcb-cc92-4141-bf47-24bba39e5f54",
   "metadata": {},
   "outputs": [],
   "source": []
  }
 ],
 "metadata": {
  "kernelspec": {
   "display_name": "Python 3",
   "language": "python",
   "name": "python3"
  },
  "language_info": {
   "codemirror_mode": {
    "name": "ipython",
    "version": 3
   },
   "file_extension": ".py",
   "mimetype": "text/x-python",
   "name": "python",
   "nbconvert_exporter": "python",
   "pygments_lexer": "ipython3",
   "version": "3.7.10"
  }
 },
 "nbformat": 4,
 "nbformat_minor": 5
}
